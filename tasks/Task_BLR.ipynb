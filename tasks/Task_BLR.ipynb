{
 "cells": [
  {
   "cell_type": "markdown",
   "metadata": {},
   "source": [
    "# Задание по байесовской линейной регрессии\n",
    "\n",
    "__Предупреждение про списывание.__ Строго запрещается использовать код или решения задач других студентов в своем решении. Код из открытых источников разрешается брать только фрагментами по одной строке (например, скопировать пример использования какой-то функции), нельзя копировать код по несколько строк. В случае обнаружения похожих решений выставляется 0 за __все__ задание __обоим__ студентам, чьи работы являются похожими, и подается служебная записка в деканат."
   ]
  },
  {
   "cell_type": "markdown",
   "metadata": {},
   "source": [
    "## Теоретическая часть\n",
    "Напишите решения задач либо здесь ниже в ноутбуке, используя TeX для написания формул, либо оформите на листочке и загрузите __одним__ pdf файлом (проверять несколько отдельных фотографий очень неудобно).\n",
    "\n",
    "1. __(1 балл)__ Дана выборка независимых одинаково распределенных случайных величин $X=\\{x_1, \\dots, x_N\\}$, $x_i \\in \\mathbb{R}$, \n",
    "$$p(x_i~|~\\mu_0, \\tau) = \\mathcal{N}(x~|~\\mu_0, \\tau^{-1})=\\frac{\\sqrt{\\tau}}{\\sqrt{2\\pi}}\\exp\\bigl(-\\frac \\tau 2 (x-\\mu_0)^2\\bigr),$$\n",
    "значение $\\mu_0$ известно, а значение $\\tau$ требуется оценить, используя байесовский подход. Априорное распределение на $\\tau$ - [Гамма-распределение](https://ru.wikipedia.org/wiki/%D0%93%D0%B0%D0%BC%D0%BC%D0%B0-%D1%80%D0%B0%D1%81%D0%BF%D1%80%D0%B5%D0%B4%D0%B5%D0%BB%D0%B5%D0%BD%D0%B8%D0%B5):\n",
    "$$p(\\tau~|~k_0, \\theta_0) = \\frac 1 {\\Gamma(k_0) \\theta_0^{k_0}} \\tau^{k_0-1} exp\\bigl(-\\frac \\tau {\\theta_0}\\bigr),$$\n",
    "значения $\\theta_0$ и $k_0$ фиксированы. __Найдите апостериорное распределение__ $p(\\tau|X)$ (все зафиксированные величины $*_0$ после черты опущены для сокращения обозначений, вы тоже можете так делать при желании). \n",
    "2. __(0.5 балла)__ __Выведите, использованию какой функции потерь__ $L(y, a(x))$ соответствует оптимизация логарифма правдоподобия в следующей вероятностной модели:\n",
    "$$p(y~|~a(x)) = \\text{Poisson}(y~|~a(x)) = \\frac {(a(x))^y \\, e^{-a(x)}}{y!},$$\n",
    "$y \\in \\mathbb{N}$ (регрессия натуральных чисел). Ожидается максимально упрощенный вид функции потерь.\n",
    "3. __(0.5 балла)__ Рассмотрим следующую модель байесовской линейной регрессии (в сравнении с [лекцией](https://github.com/ftad/BM2020/blob/master/materials/presentation_linear_FTAD.pdf), в данной версии добавлен гиперпараметр $\\beta$ в правдоподобие):\n",
    "$$p(Y~|~X, w) = \\mathcal{N}(Y~|~Xw, \\beta I),$$\n",
    "$$p(w) = \\mathcal{N}(w~|~0, \\alpha I).$$\n",
    "__Запишите формулы__ апостериорного распределения на веса $p(w|X, Y)$ и предиктивного распределения $p(y_*|x_*, X, Y)$. Эти распределения понадобятся вам при реализации байесовской линейной регрессии."
   ]
  },
  {
   "cell_type": "markdown",
   "metadata": {},
   "source": [
    "## Практическая часть\n",
    "\n",
    "В этом задании вам предстоит реализовать байесовскую линейную регрессию и применить ее к синтетическим и текстовым данным, чтобы удостовериться в способности модели оценивать уверенность в предсказаниях.\n",
    "\n",
    "Мы будем работать с (упрощенными) данными [Mercari Price Suggestion Challenge](https://www.kaggle.com/c/mercari-price-suggestion-challenge), скрипт базовой предобработки данных частично заимствован в [этом ноутбуке](https://www.kaggle.com/jkkphys/category-tf-idf-linear-regression)."
   ]
  },
  {
   "cell_type": "code",
   "execution_count": 1,
   "metadata": {
    "collapsed": true
   },
   "outputs": [],
   "source": [
    "from sklearn.feature_extraction.text import TfidfVectorizer\n",
    "from sklearn.model_selection import train_test_split, GridSearchCV\n",
    "from sklearn.metrics import mean_squared_log_error\n",
    "from sklearn.linear_model import LinearRegression\n",
    "from sklearn.pipeline import Pipeline\n",
    "\n",
    "import pandas as pd\n",
    "import numpy as np\n",
    "import time\n",
    "import re\n",
    "\n",
    "seed = 101\n",
    "\n",
    "from matplotlib import pyplot as plt\n",
    "%matplotlib inline"
   ]
  },
  {
   "cell_type": "markdown",
   "metadata": {},
   "source": [
    "Загружаем данные:"
   ]
  },
  {
   "cell_type": "code",
   "execution_count": 2,
   "metadata": {},
   "outputs": [
    {
     "data": {
      "text/html": [
       "<div>\n",
       "<style scoped>\n",
       "    .dataframe tbody tr th:only-of-type {\n",
       "        vertical-align: middle;\n",
       "    }\n",
       "\n",
       "    .dataframe tbody tr th {\n",
       "        vertical-align: top;\n",
       "    }\n",
       "\n",
       "    .dataframe thead th {\n",
       "        text-align: right;\n",
       "    }\n",
       "</style>\n",
       "<table border=\"1\" class=\"dataframe\">\n",
       "  <thead>\n",
       "    <tr style=\"text-align: right;\">\n",
       "      <th></th>\n",
       "      <th>Categories</th>\n",
       "      <th>Price</th>\n",
       "    </tr>\n",
       "  </thead>\n",
       "  <tbody>\n",
       "    <tr>\n",
       "      <th>0</th>\n",
       "      <td>Men/Tops/T-shirts</td>\n",
       "      <td>2.397895</td>\n",
       "    </tr>\n",
       "    <tr>\n",
       "      <th>1</th>\n",
       "      <td>Women/Tops &amp; Blouses/T-Shirts</td>\n",
       "      <td>2.564949</td>\n",
       "    </tr>\n",
       "    <tr>\n",
       "      <th>2</th>\n",
       "      <td>Beauty/Fragrance/Candles &amp; Home Scents</td>\n",
       "      <td>3.465736</td>\n",
       "    </tr>\n",
       "    <tr>\n",
       "      <th>3</th>\n",
       "      <td>Electronics/Cell Phones &amp; Accessories/Cases, C...</td>\n",
       "      <td>1.791759</td>\n",
       "    </tr>\n",
       "    <tr>\n",
       "      <th>4</th>\n",
       "      <td>Women/Tops &amp; Blouses/Blouse</td>\n",
       "      <td>2.302585</td>\n",
       "    </tr>\n",
       "  </tbody>\n",
       "</table>\n",
       "</div>"
      ],
      "text/plain": [
       "                                          Categories     Price\n",
       "0                                  Men/Tops/T-shirts  2.397895\n",
       "1                      Women/Tops & Blouses/T-Shirts  2.564949\n",
       "2             Beauty/Fragrance/Candles & Home Scents  3.465736\n",
       "3  Electronics/Cell Phones & Accessories/Cases, C...  1.791759\n",
       "4                        Women/Tops & Blouses/Blouse  2.302585"
      ]
     },
     "execution_count": 2,
     "metadata": {},
     "output_type": "execute_result"
    }
   ],
   "source": [
    "df = pd.read_csv(\"https://github.com/ftad/BM2020/raw/master/materials/data.csv\")\n",
    "df.head()"
   ]
  },
  {
   "cell_type": "code",
   "execution_count": 3,
   "metadata": {},
   "outputs": [
    {
     "data": {
      "text/plain": [
       "(14818, 2)"
      ]
     },
     "execution_count": 3,
     "metadata": {},
     "output_type": "execute_result"
    }
   ],
   "source": [
    "df.shape"
   ]
  },
  {
   "cell_type": "markdown",
   "metadata": {},
   "source": [
    "Каждая строка таблицы - это товар в Интернет-магазине, про него известны категории, к которым он принадлежит, и цена.\n",
    "\n",
    "Разделим данные на обучение и контроль:"
   ]
  },
  {
   "cell_type": "code",
   "execution_count": 4,
   "metadata": {
    "collapsed": true
   },
   "outputs": [],
   "source": [
    "X = df[\"Categories\"]\n",
    "y = df['Price']\n",
    "X_train, X_test, y_train, y_test = \\\n",
    "            train_test_split(X, y, test_size=0.3, random_state=seed)"
   ]
  },
  {
   "cell_type": "markdown",
   "metadata": {},
   "source": [
    "Преобразуем данные в \"мешок слов\" и нормализуем:"
   ]
  },
  {
   "cell_type": "code",
   "execution_count": 5,
   "metadata": {
    "collapsed": true
   },
   "outputs": [],
   "source": [
    "def tokenizer(text):\n",
    "    if text:\n",
    "        result = re.findall('[a-z]{2,}', text.lower())\n",
    "    else:\n",
    "        result = []\n",
    "    return result"
   ]
  },
  {
   "cell_type": "code",
   "execution_count": 6,
   "metadata": {},
   "outputs": [],
   "source": [
    "from sklearn.feature_extraction.text import CountVectorizer\n",
    "from sklearn.preprocessing import Normalizer\n",
    "vect = CountVectorizer(tokenizer=tokenizer, stop_words='english')\n",
    "X_train_vect = vect.fit_transform(X_train)\n",
    "X_test_vect = vect.transform(X_test)\n",
    "normer = Normalizer()\n",
    "X_train_vect = normer.fit_transform(X_train_vect)\n",
    "X_test_vect = normer.transform(X_test_vect)\n",
    "X_train_vect = np.array(X_train_vect.todense())\n",
    "X_test_vect = np.array(X_test_vect.todense())"
   ]
  },
  {
   "cell_type": "markdown",
   "metadata": {},
   "source": [
    "Итоговая форма матриц с объектами и признаками:"
   ]
  },
  {
   "cell_type": "code",
   "execution_count": 7,
   "metadata": {},
   "outputs": [
    {
     "data": {
      "text/plain": [
       "((10372, 620), (4446, 620))"
      ]
     },
     "execution_count": 7,
     "metadata": {},
     "output_type": "execute_result"
    }
   ],
   "source": [
    "X_train_vect.shape, X_test_vect.shape"
   ]
  },
  {
   "cell_type": "markdown",
   "metadata": {},
   "source": [
    "Примеры слов из словаря:"
   ]
  },
  {
   "cell_type": "code",
   "execution_count": 8,
   "metadata": {},
   "outputs": [
    {
     "data": {
      "text/plain": [
       "['women',\n",
       " 'handbags',\n",
       " 'cosmetic',\n",
       " 'bags',\n",
       " 'handmade',\n",
       " 'purses',\n",
       " 'wristlet',\n",
       " 'messenger',\n",
       " 'crossbody',\n",
       " 'electronics']"
      ]
     },
     "execution_count": 8,
     "metadata": {},
     "output_type": "execute_result"
    }
   ],
   "source": [
    "list(vect.vocabulary_)[:10]"
   ]
  },
  {
   "cell_type": "markdown",
   "metadata": {},
   "source": [
    "В итоге мы получили переменные X_train_vect, X_test_vect, y_train, y_test."
   ]
  },
  {
   "cell_type": "markdown",
   "metadata": {},
   "source": [
    "__Задание (0.5 балла).__ Примените регуляризованную линейную регрессию (ridge regression) из sklearn к предобработанным данным: обучите модель, выполните предсказания для test и посчитайте mean_absolute_error. Сравните качество с использованием и без использования свободного коэффициента.\n",
    "\n",
    "Используйте коэффициент регуляризации alpha=0.0001, он нужен только для того, чтобы избежать \"бесконечных\" по модулю весов."
   ]
  },
  {
   "cell_type": "code",
   "execution_count": 9,
   "metadata": {
    "collapsed": true
   },
   "outputs": [],
   "source": [
    "from sklearn.linear_model import Ridge\n",
    "\n",
    "model = Ridge(alpha=0.0001)\n",
    "model.fit(X_train_vect, y_train)\n",
    "y_pred = model.predict(X_test_vect)"
   ]
  },
  {
   "cell_type": "code",
   "execution_count": 10,
   "metadata": {
    "collapsed": true
   },
   "outputs": [
    {
     "data": {
      "text/plain": [
       "15.050273101129127"
      ]
     },
     "execution_count": 10,
     "metadata": {},
     "output_type": "execute_result"
    }
   ],
   "source": [
    "# пример вычисления ошибки с обратной конвертацией целевых переменных\n",
    "from sklearn.metrics import mean_absolute_error\n",
    "mean_absolute_error(np.exp(y_test)-1, np.exp(y_pred)-1)"
   ]
  },
  {
   "cell_type": "code",
   "execution_count": 11,
   "metadata": {
    "collapsed": true
   },
   "outputs": [
    {
     "data": {
      "text/plain": [
       "15.09511243798175"
      ]
     },
     "execution_count": 11,
     "metadata": {},
     "output_type": "execute_result"
    }
   ],
   "source": [
    "model = Ridge(alpha=0.0001, fit_intercept=False)\n",
    "model.fit(X_train_vect, y_train)\n",
    "y_pred = model.predict(X_test_vect)\n",
    "mean_absolute_error(np.exp(y_test)-1, np.exp(y_pred)-1)"
   ]
  },
  {
   "cell_type": "markdown",
   "metadata": {},
   "source": [
    "Использование свободного коэффициента практически не влияет на ошибку, поэтому в последующих экспериментах мы его использовать не будем."
   ]
  },
  {
   "cell_type": "markdown",
   "metadata": {},
   "source": [
    "__Задание (4 балла).__ Реализуйте байесовскую линейную регрессию с интерфейсом, аналогичным интерфейсу sklearn. \n",
    "\n",
    "Алгоритм приведен на слайде 52 [в лекции](https://github.com/ftad/BM2020/blob/master/materials/presentation_linear_FTAD.pdf), однако вам потребуется измененный алгоритм в соответствии с теоретической задачей 3. Также обратите внимание, что формула предиктивного распределения в слайдах записана для одного объекта, а вам ее нужно посчитать векторно для всех объектов в выборке.\n",
    "\n",
    "Рекомендуется печатать формы промежуточных тензоров, чтобы следить за правильностью проводимых вычислений.\n",
    "\n",
    "__В реализации класса запрещено использовать циклы и подобные конструкции, только векторизованные операции numpy!__"
   ]
  },
  {
   "cell_type": "code",
   "execution_count": 12,
   "metadata": {
    "collapsed": true
   },
   "outputs": [],
   "source": [
    "from statistics import variance\n",
    "from sklearn.base import BaseEstimator\n",
    "class BayesianLinearRegression(BaseEstimator):\n",
    "    def __init__(self, alpha=1, beta=1):\n",
    "        \"\"\"\n",
    "        alpha: variance of the prior distribution: p(w) = N(w|0, alpha I)\n",
    "        beta: variance of the likelihood distribution:\n",
    "               p(y|x, w) = N(y|x^T w, beta)\n",
    "        \"\"\"\n",
    "        self.alpha = alpha\n",
    "        self.beta = beta\n",
    "        \n",
    "    def fit(self, X, y):\n",
    "        \"\"\"\n",
    "        returns nothing\n",
    "        \"\"\"\n",
    "        self.w_est = np.linalg.inv(X.T.dot(X) + self.beta / self.alpha * np.eye(X.shape[1])).dot(X.T).dot(y)\n",
    "        self.X_train = X.copy()\n",
    "    \n",
    "    def predict(self, X):\n",
    "        \"\"\"\n",
    "        returns two arrays of shape (num_objects,): \n",
    "                                     predicted mean and variance\n",
    "        \"\"\"\n",
    "        mean = (X @ self.w_est.T)\n",
    "        variance = (self.beta + self.beta * X @ np.linalg.inv((self.X_train.T.dot(self.X_train) + self.beta / self.alpha * np.eye(self.X_train.shape[1]))) @ X.T).diagonal()\n",
    "        return mean, variance"
   ]
  },
  {
   "cell_type": "markdown",
   "metadata": {},
   "source": [
    "__Задание (0.5 балла).__ Примените реализованную байесовскую линейную регрессию к предобработанным текстовым данным, оцените ошибку mean_absolute_error (ошибка оценивается по предсказаниям среднего (mu)).\n",
    "\n",
    "В этом и следующем заданиях используйте гиперпараметры байесовской линейной регрессии по умолчанию. Ошибка может получиться немного выше (разница в сотых), чем у реализации sklearn, из-за численной неустойчивости."
   ]
  },
  {
   "cell_type": "code",
   "execution_count": 28,
   "metadata": {
    "collapsed": true
   },
   "outputs": [],
   "source": [
    "blinreg = BayesianLinearRegression()\n",
    "blinreg.fit(X_train_vect, y_train)\n",
    "mean, variance_start = blinreg.predict(X_test_vect)"
   ]
  },
  {
   "cell_type": "code",
   "execution_count": 14,
   "metadata": {},
   "outputs": [
    {
     "data": {
      "text/plain": [
       "15.157682782457556"
      ]
     },
     "execution_count": 14,
     "metadata": {},
     "output_type": "execute_result"
    }
   ],
   "source": [
    "mean_absolute_error(np.exp(y_test)-1, np.exp(mean)-1)"
   ]
  },
  {
   "cell_type": "markdown",
   "metadata": {},
   "source": [
    "__Задание (1 балл).__ Посмотрим, какие дисперсии будет предсказывать байесовская линейная регрессия для _нестандартных_ объектов. Составим такие объекты, комбинируя несочетающиеся категории товаров, а также повторяя слова неестесственное число раз.\n",
    "Вычислите предсказания байесовской линейной (средние и дисперсии) регрессии для составленных нестандартных объектов. Сравните величины дисперсий для нестандартных объектов и для объектов из тестовой выборки, проанализируйте результат.\n",
    "\n",
    "Не забудьте выполнить все шаги предобработки новых данных, включая извлечение мешка слов, нормализацию, конвертацию матрицы из разреженного формата в формат dense."
   ]
  },
  {
   "cell_type": "code",
   "execution_count": 15,
   "metadata": {
    "collapsed": true
   },
   "outputs": [
    {
     "data": {
      "text/plain": [
       "['Women/Sweaters/Vest, Sleeveless',\n",
       " 'Women/Maternity/Tops & Blouses',\n",
       " 'Kids/Toys/Sports & Outdoor Play',\n",
       " 'Men/Coats & Jackets/Other',\n",
       " 'Home/Kitchen & Dining/Wine Accessories',\n",
       " 'Handmade/Accessories/Lanyard',\n",
       " 'Electronics/TV, Audio & Surveillance/Home Speakers & Subwoofers',\n",
       " 'Handmade/Housewares/Wall Decor',\n",
       " 'Men/Swimwear/Board Shorts',\n",
       " 'Home/Seasonal Décor/Valentine']"
      ]
     },
     "execution_count": 15,
     "metadata": {},
     "output_type": "execute_result"
    }
   ],
   "source": [
    "# Смотрим, какие бывают категории\n",
    "list(set(df[\"Categories\"]))[:10]"
   ]
  },
  {
   "cell_type": "code",
   "execution_count": 16,
   "metadata": {
    "collapsed": true
   },
   "outputs": [],
   "source": [
    "# составляем неестественные объекты, комбинируя плохо сочетающиеся категории\n",
    "my_data = [\n",
    "    \"Sports & Outdoors/Art\"+\"/Art\"*1000,\\\n",
    "    \"Sports & Outdoors/Art\",\\\n",
    "    \"Books/Coats/Garage Storage\"\n",
    "]"
   ]
  },
  {
   "cell_type": "code",
   "execution_count": 23,
   "metadata": {
    "collapsed": true
   },
   "outputs": [],
   "source": [
    "pipeline = Pipeline([\n",
    "    (\"Vectorizer\", vect),\n",
    "    (\"Normalizer\", normer)\n",
    "])\n",
    "\n",
    "X = np.array(pipeline.transform(my_data).todense())\n",
    "means, variance = blinreg.predict(X)"
   ]
  },
  {
   "cell_type": "code",
   "execution_count": 27,
   "metadata": {
    "collapsed": true
   },
   "outputs": [
    {
     "data": {
      "text/plain": [
       "1.268201859729041"
      ]
     },
     "execution_count": 27,
     "metadata": {},
     "output_type": "execute_result"
    }
   ],
   "source": [
    "# неестественные объекты,\n",
    "variance.mean()"
   ]
  },
  {
   "cell_type": "code",
   "execution_count": 29,
   "metadata": {},
   "outputs": [
    {
     "data": {
      "text/plain": [
       "1.0280894535204497"
      ]
     },
     "execution_count": 29,
     "metadata": {},
     "output_type": "execute_result"
    }
   ],
   "source": [
    "# исходные объекты\n",
    "variance_start.mean()"
   ]
  },
  {
   "cell_type": "markdown",
   "metadata": {},
   "source": [
    "__Ваш комментарий к результату:__\n",
    "    \n",
    "    Дисперсия на неадекватных объектах ожидаемо большая, так так попались объекты непохожие на исходное распределение"
   ]
  },
  {
   "cell_type": "markdown",
   "metadata": {},
   "source": [
    "Пришло время протестировать реализованный алгоритм на синтетических данных.\n",
    "\n",
    "__Задание (1 балл).__ Используя вашу реализацию байесовской линейной регрессии, нарисуйте картинку, аналогичную следующей:\n",
    "![правая картинка слайда 49 из лекции](https://github.com/ftad/BM2020/raw/master/materials/blr_illustrate.png)\n",
    "\n",
    "Для генерации синтетических данных воспользуемся функцией [make_regression](https://scikit-learn.org/stable/modules/generated/sklearn.datasets.make_regression.html) из sklearn. Сетка по оси абсцисс для визуализации предсказаний уже дана. Не забудьте подписать оси! Для заливки можно воспользоваться функцией plt.fill_between"
   ]
  },
  {
   "cell_type": "code",
   "execution_count": 30,
   "metadata": {
    "collapsed": true
   },
   "outputs": [],
   "source": [
    "from sklearn.datasets import make_regression\n",
    "noise = 30\n",
    "xs, ys, coef = make_regression(n_samples=100, n_features=1, \\\n",
    "                               bias=0, coef=True, noise=noise)\n",
    "ys = ys.ravel() / noise"
   ]
  },
  {
   "cell_type": "code",
   "execution_count": 32,
   "metadata": {
    "collapsed": true
   },
   "outputs": [],
   "source": [
    "model = BayesianLinearRegression()\n",
    "model.fit(xs, ys)\n",
    "# сетка для визуализации предсказаний\n",
    "grid = np.linspace(-10, 10, 1000)\n",
    "means, vars = model.predict(grid.reshape(-1, 1))"
   ]
  },
  {
   "cell_type": "code",
   "execution_count": 42,
   "metadata": {
    "collapsed": true
   },
   "outputs": [
    {
     "data": {
      "image/png": "[encoded data removed]",
      "text/plain": [
       "<Figure size 640x480 with 1 Axes>"
      ]
     },
     "metadata": {},
     "output_type": "display_data"
    }
   ],
   "source": [
    "plt.scatter(xs, ys, marker='x', c='k', label='make_regression')\n",
    "plt.plot(grid, means.ravel(), label='$Mean$')\n",
    "plt.fill_between(grid, means.ravel()+np.sqrt(vars), means.ravel()-np.sqrt(vars), alpha=0.5, label='$Mean+std$')\n",
    "plt.xlabel('$xs$')\n",
    "plt.ylabel('$ys$')\n",
    "plt.legend()\n",
    "plt.show()"
   ]
  },
  {
   "cell_type": "markdown",
   "metadata": {},
   "source": [
    "__Задание (1 балл).__ Посмотроим аналогичную иллюстрацию для линейной регрессии на полиномиальных признаках. Пример такой иллюстрации был дан в лекции:\n",
    "![правая иллюстрация, слайд 51](https://github.com/ftad/BM2020/raw/master/materials/blr_illustrate_poly.png)\n",
    "\n",
    "Используем xs из предыдущего задания и зададим ys, используя кубическую функцию. Будем обучать линейную регрессию на признаках $x, x^2, x^3, x^4$. \"Загаданная\" функция кубическая, поэтому веса при первом, втором и четвертом признаках должны получиться близкими к 0 - проверьте это! Не забудьте подписать оси!\n",
    "\n",
    "Чтобы увидеть большие дисперсии по краям, может потребоваться немного подвинуть левую и правую границы сетки grid."
   ]
  },
  {
   "cell_type": "code",
   "execution_count": 43,
   "metadata": {
    "collapsed": true
   },
   "outputs": [
    {
     "data": {
      "text/plain": [
       "<matplotlib.collections.PathCollection at 0x1f62d991e40>"
      ]
     },
     "execution_count": 43,
     "metadata": {},
     "output_type": "execute_result"
    },
    {
     "data": {
      "image/png": "[encoded data removed]",
      "text/plain": [
       "<Figure size 640x480 with 1 Axes>"
      ]
     },
     "metadata": {},
     "output_type": "display_data"
    }
   ],
   "source": [
    "# Используем xs из предыдущего задания, а ys задаем, используя кубическюу фунцкию\n",
    "ys = (xs**3).ravel()\n",
    "plt.scatter(xs, ys)"
   ]
  },
  {
   "cell_type": "code",
   "execution_count": 45,
   "metadata": {
    "collapsed": true
   },
   "outputs": [],
   "source": [
    "blinreg = BayesianLinearRegression()\n",
    "blinreg.fit(\n",
    "    np.stack((xs.ravel(), (xs**2).ravel(), (xs**3).ravel(), (xs**4).ravel())).T,\n",
    "    ys\n",
    ")"
   ]
  },
  {
   "cell_type": "code",
   "execution_count": 46,
   "metadata": {
    "collapsed": true
   },
   "outputs": [],
   "source": [
    "grid = np.linspace(-5, 4, 1000)\n",
    "means, vars = blinreg.predict(\n",
    "    np.stack((grid.ravel(), (grid**2).ravel(), (grid**3).ravel(), (grid**4).ravel())).T\n",
    ")"
   ]
  },
  {
   "cell_type": "code",
   "execution_count": 51,
   "metadata": {
    "collapsed": true
   },
   "outputs": [
    {
     "data": {
      "image/png": "[encoded data removed]",
      "text/plain": [
       "<Figure size 640x480 with 1 Axes>"
      ]
     },
     "metadata": {},
     "output_type": "display_data"
    }
   ],
   "source": [
    "plt.scatter(xs, ys, marker='x', c='k', label='make_regression')\n",
    "plt.plot(grid, means.ravel(), label='$Mean$')\n",
    "plt.fill_between(grid, means.ravel()+np.sqrt(vars), means.ravel()-np.sqrt(vars), alpha=0.5, label='$Mean+std$')\n",
    "plt.xlabel('$xs$')\n",
    "plt.ylabel('$ys$')\n",
    "plt.title('$Mean+-std$')\n",
    "plt.legend()\n",
    "plt.show()"
   ]
  },
  {
   "cell_type": "markdown",
   "metadata": {},
   "source": [
    "В задании мы визуализировали дисперсии, предсказываемые байесовской линейной регрессией, и увидели, что они могут быть полезны для оценивания, принадлежит ли тестовый объект к общей совокупности данных или является объектом вне распределения (out-of-distribution)."
   ]
  },
  {
   "cell_type": "code",
   "execution_count": null,
   "metadata": {
    "collapsed": true
   },
   "outputs": [],
   "source": []
  }
 ],
 "metadata": {
  "kernelspec": {
   "display_name": "Python 3.10.7 64-bit (microsoft store)",
   "language": "python",
   "name": "python3"
  },
  "language_info": {
   "codemirror_mode": {
    "name": "ipython",
    "version": 3
   },
   "file_extension": ".py",
   "mimetype": "text/x-python",
   "name": "python",
   "nbconvert_exporter": "python",
   "pygments_lexer": "ipython3",
   "version": "3.10.7"
  },
  "vscode": {
   "interpreter": {
    "hash": "570dd33043ea43a5929913ff205be499021c2ab8ef3bcad34e41dcd3206e6bcb"
   }
  }
 },
 "nbformat": 4,
 "nbformat_minor": 2
}
